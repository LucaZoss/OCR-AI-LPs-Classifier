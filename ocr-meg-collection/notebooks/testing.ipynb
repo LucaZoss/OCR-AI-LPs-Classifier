{
 "cells": [
  {
   "cell_type": "code",
   "execution_count": 1,
   "metadata": {},
   "outputs": [
    {
     "name": "stdout",
     "output_type": "stream",
     "text": [
      "['LP2836', '20240708 MEG - Rapport de numérisation vinyles - Partie 1.xlsx']\n"
     ]
    }
   ],
   "source": [
    "from ocr_meg_collection.utils import list_all_track_duration_from_lp, fetch_lp_covers_path\n",
    "import os\n",
    "import glob\n",
    "\n",
    "# Fetch target directory located in external hard drive LaCie_500GB\n",
    "\n",
    "TARGET_DIR = '/Volumes/LaCie_500G/MEG_CAT_TEST/'\n",
    "\n",
    "print(os.listdir(TARGET_DIR))\n",
    "\n",
    "\n"
   ]
  },
  {
   "cell_type": "code",
   "execution_count": 2,
   "metadata": {},
   "outputs": [
    {
     "name": "stdout",
     "output_type": "stream",
     "text": [
      "['/Volumes/LaCie_500G/MEG_CAT_TEST/LP2836/LP2836_1z1_A01.mp3', '/Volumes/LaCie_500G/MEG_CAT_TEST/LP2836/LP2836_1z1_A04.mp3', '/Volumes/LaCie_500G/MEG_CAT_TEST/LP2836/LP2836_1z1_A05.mp3', '/Volumes/LaCie_500G/MEG_CAT_TEST/LP2836/LP2836_1z1_A06.mp3', '/Volumes/LaCie_500G/MEG_CAT_TEST/LP2836/LP2836_1z1_B01.mp3', '/Volumes/LaCie_500G/MEG_CAT_TEST/LP2836/LP2836_1z1_B02.mp3', '/Volumes/LaCie_500G/MEG_CAT_TEST/LP2836/LP2836_1z1_B03.mp3', '/Volumes/LaCie_500G/MEG_CAT_TEST/LP2836/LP2836_1z1_B04.mp3', '/Volumes/LaCie_500G/MEG_CAT_TEST/LP2836/LP2836_1z1_B05.mp3', '/Volumes/LaCie_500G/MEG_CAT_TEST/LP2836/LP2836_1z1_B06.mp3']\n"
     ]
    }
   ],
   "source": [
    "print(glob.glob(os.path.join(\"/Volumes/LaCie_500G/MEG_CAT_TEST/LP2836\", \"*.mp3\")))"
   ]
  },
  {
   "cell_type": "code",
   "execution_count": 7,
   "metadata": {},
   "outputs": [
    {
     "data": {
      "text/plain": [
       "{'LP2836': {'filename': ['LP2836_1z1_A01.mp3',\n",
       "   nan,\n",
       "   nan,\n",
       "   'LP2836_1z1_A04.mp3',\n",
       "   'LP2836_1z1_A05.mp3',\n",
       "   'LP2836_1z1_A06.mp3',\n",
       "   'LP2836_1z1_A01.mp3',\n",
       "   'LP2836_1z1_B02.mp3',\n",
       "   'LP2836_1z1_B03.mp3',\n",
       "   'LP2836_1z1_A04.mp3',\n",
       "   'LP2836_1z1_A05.mp3',\n",
       "   'LP2836_1z1_A06.mp3'],\n",
       "  'face': ['A', 'A', 'A', 'A', 'A', 'A', 'B', 'B', 'B', 'B', 'B', 'B'],\n",
       "  'plage': [1, 2, 3, 4, 5, 6, 1, 2, 3, 4, 5, 6],\n",
       "  'durée': [\"9'10\",\n",
       "   nan,\n",
       "   nan,\n",
       "   \"2'50\",\n",
       "   \"2'41\",\n",
       "   \"2'45\",\n",
       "   \"9'10\",\n",
       "   \"3'05\",\n",
       "   \"2'46\",\n",
       "   \"2'50\",\n",
       "   \"2'41\",\n",
       "   \"2'45\"]}}"
      ]
     },
     "execution_count": 7,
     "metadata": {},
     "output_type": "execute_result"
    }
   ],
   "source": [
    "LP2836_track_length_list = list_all_track_duration_from_lp(TARGET_DIR=TARGET_DIR,lp_cote_general='LP2836')\n",
    "\n",
    "LP2836_track_length_list"
   ]
  },
  {
   "cell_type": "code",
   "execution_count": 13,
   "metadata": {},
   "outputs": [
    {
     "data": {
      "text/plain": [
       "['LP2836_1z1_A01.mp3',\n",
       " 'LP2836_1z1_A04.mp3',\n",
       " 'LP2836_1z1_A05.mp3',\n",
       " 'LP2836_1z1_A06.mp3',\n",
       " 'LP2836_1z1_B01.mp3',\n",
       " 'LP2836_1z1_B02.mp3',\n",
       " 'LP2836_1z1_B03.mp3',\n",
       " 'LP2836_1z1_B04.mp3',\n",
       " 'LP2836_1z1_B05.mp3',\n",
       " 'LP2836_1z1_B06.mp3']"
      ]
     },
     "execution_count": 13,
     "metadata": {},
     "output_type": "execute_result"
    }
   ],
   "source": [
    "# only list the first element of each tuple\n",
    "first_elements = [t[0] for t in LP2836_track_length_list]\n",
    "first_elements"
   ]
  },
  {
   "cell_type": "code",
   "execution_count": 5,
   "metadata": {},
   "outputs": [
    {
     "data": {
      "text/html": [
       "<div>\n",
       "<style scoped>\n",
       "    .dataframe tbody tr th:only-of-type {\n",
       "        vertical-align: middle;\n",
       "    }\n",
       "\n",
       "    .dataframe tbody tr th {\n",
       "        vertical-align: top;\n",
       "    }\n",
       "\n",
       "    .dataframe thead th {\n",
       "        text-align: right;\n",
       "    }\n",
       "</style>\n",
       "<table border=\"1\" class=\"dataframe\">\n",
       "  <thead>\n",
       "    <tr style=\"text-align: right;\">\n",
       "      <th></th>\n",
       "      <th>filename</th>\n",
       "      <th>face</th>\n",
       "      <th>plage</th>\n",
       "      <th>durée</th>\n",
       "    </tr>\n",
       "  </thead>\n",
       "  <tbody>\n",
       "    <tr>\n",
       "      <th>LP2836</th>\n",
       "      <td>LP2836_1z1_A01.mp3</td>\n",
       "      <td>A</td>\n",
       "      <td>1</td>\n",
       "      <td>9'10</td>\n",
       "    </tr>\n",
       "    <tr>\n",
       "      <th>LP2836</th>\n",
       "      <td>NaN</td>\n",
       "      <td>A</td>\n",
       "      <td>2</td>\n",
       "      <td>NaN</td>\n",
       "    </tr>\n",
       "    <tr>\n",
       "      <th>LP2836</th>\n",
       "      <td>NaN</td>\n",
       "      <td>A</td>\n",
       "      <td>3</td>\n",
       "      <td>NaN</td>\n",
       "    </tr>\n",
       "    <tr>\n",
       "      <th>LP2836</th>\n",
       "      <td>LP2836_1z1_A04.mp3</td>\n",
       "      <td>A</td>\n",
       "      <td>4</td>\n",
       "      <td>2'50</td>\n",
       "    </tr>\n",
       "    <tr>\n",
       "      <th>LP2836</th>\n",
       "      <td>LP2836_1z1_A05.mp3</td>\n",
       "      <td>A</td>\n",
       "      <td>5</td>\n",
       "      <td>2'41</td>\n",
       "    </tr>\n",
       "  </tbody>\n",
       "</table>\n",
       "</div>"
      ],
      "text/plain": [
       "                  filename face plage durée\n",
       "LP2836  LP2836_1z1_A01.mp3    A     1  9'10\n",
       "LP2836                 NaN    A     2   NaN\n",
       "LP2836                 NaN    A     3   NaN\n",
       "LP2836  LP2836_1z1_A04.mp3    A     4  2'50\n",
       "LP2836  LP2836_1z1_A05.mp3    A     5  2'41"
      ]
     },
     "execution_count": 5,
     "metadata": {},
     "output_type": "execute_result"
    }
   ],
   "source": [
    "import pandas as pd\n",
    "\n",
    "df = pd.DataFrame.from_dict(LP2836_track_length_list, orient='index').explode(['filename', 'face', 'plage', 'durée'])\n",
    "\n",
    "df.head()"
   ]
  },
  {
   "cell_type": "code",
   "execution_count": 4,
   "metadata": {},
   "outputs": [
    {
     "name": "stdout",
     "output_type": "stream",
     "text": [
      "Front Cover Path: ['/Volumes/LaCie_500G/MEG_CAT_TEST//LP2836/LP2836_cover01.jpg']\n",
      "Back Cover Path: ['/Volumes/LaCie_500G/MEG_CAT_TEST//LP2836/LP2836_cover02.jpg']\n"
     ]
    },
    {
     "data": {
      "text/plain": [
       "['/Volumes/LaCie_500G/MEG_CAT_TEST//LP2836/LP2836_cover01.jpg']"
      ]
     },
     "execution_count": 4,
     "metadata": {},
     "output_type": "execute_result"
    }
   ],
   "source": [
    "# Call the function and unpack the result\n",
    "front_cover_path, back_cover_path = fetch_lp_covers_path(base_dir = TARGET_DIR, lp_cote_general='LP2836')\n",
    "\n",
    "# Now you can access front_cover_path\n",
    "print(\"Front Cover Path:\", front_cover_path)\n",
    "print(\"Back Cover Path:\", back_cover_path)\n",
    "\n",
    "front_cover_path"
   ]
  }
 ],
 "metadata": {
  "kernelspec": {
   "display_name": "ocr-meg-collection-YcN2kJmD-py3.11",
   "language": "python",
   "name": "python3"
  },
  "language_info": {
   "codemirror_mode": {
    "name": "ipython",
    "version": 3
   },
   "file_extension": ".py",
   "mimetype": "text/x-python",
   "name": "python",
   "nbconvert_exporter": "python",
   "pygments_lexer": "ipython3",
   "version": "3.11.5"
  }
 },
 "nbformat": 4,
 "nbformat_minor": 2
}
